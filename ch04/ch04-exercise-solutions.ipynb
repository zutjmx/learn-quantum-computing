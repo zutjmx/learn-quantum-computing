{
 "cells": [
  {
   "cell_type": "markdown",
   "metadata": {},
   "source": [
    "# [Learn Quantum Computing with Python and Q#](https://www.manning.com/books/learn-quantum-computing-with-python-and-q-sharp?a_aid=learn-qc-granade&a_bid=ee23f338)<br>Chapter 4 Exercise Solutions\n",
    "----\n",
    "> Copyright (c) Sarah Kaiser and Chris Granade.\n",
    "> Code sample from the book \"Learn Quantum Computing with Python and Q#\" by\n",
    "> Sarah Kaiser and Chris Granade, published by Manning Publications Co.\n",
    "> Book ISBN 9781617296130.\n",
    "> Code licensed under the MIT License."
   ]
  },
  {
   "cell_type": "markdown",
   "metadata": {},
   "source": [
    "### Preamble"
   ]
  },
  {
   "cell_type": "code",
   "execution_count": null,
   "metadata": {},
   "outputs": [],
   "source": [
    "import numpy as np\n",
    "import qutip as qt"
   ]
  },
  {
   "cell_type": "markdown",
   "metadata": {},
   "source": [
    "### Exercise 4.1 "
   ]
  },
  {
   "cell_type": "markdown",
   "metadata": {},
   "source": [
    "**Since the referee is purely classical, we'll model them as using classical random number generators.\n",
    "This leaves open the possibility, though, that you and Eve could cheat by guessing the referee's questions.\n",
    "A possible improvement might be to use the QRNGs from Chapter 2.\n",
    "Modify the code sample in [`chsh.py`](./chsh.py) so that the referee can ask questions of you and Eve by measuring a qubit that starts off in the $\\left|+\\right\\rangle$ state.**"
   ]
  },
  {
   "cell_type": "markdown",
   "metadata": {},
   "source": [
    "The key to this exercise is replacing `random_bit`:\n",
    "\n",
    "```python\n",
    "def random_bit() -> int:\n",
    "    return random.randint(0, 1)\n",
    "```\n",
    "\n",
    "You can use what you learned in Chapter 2 to replace this by a QRNG:\n",
    "\n",
    "```python\n",
    "def random_bit(device: QuantumDevice) -> int:\n",
    "    with device.using_qubit() as q:\n",
    "        q.h()\n",
    "        return int(q.measure())\n",
    "```\n",
    "\n",
    "The referee will then need to allocate a new quantum device to use in generating their random bits:\n",
    "\n",
    "```python\n",
    "def referee(strategy: Callable[[], Strategy]) -> bool:\n",
    "    device = Simulator(capacity=1)\n",
    "    you, eve = strategy()\n",
    "    your_input, eve_input = random_bit(device), random_bit(device)\n",
    "    # ...\n",
    "```"
   ]
  },
  {
   "cell_type": "markdown",
   "metadata": {},
   "source": [
    "----\n",
    "### Exercise 4.2"
   ]
  },
  {
   "cell_type": "markdown",
   "metadata": {},
   "source": [
    "**How would you prepare a $\\left|+0\\right\\rangle$ state?\n",
    "First, what vector would you use to represent the two-qubit state $\\left|+0\\right\\rangle = \\left|+\\right\\rangle \\otimes \\left|0\\right\\rangle$?\n",
    "You have an initial two qubit register in the $\\left|00\\right\\rangle$ state.\n",
    "What operation should you apply to get the state you want?**\n",
    "\n",
    "*HINT*: try (𝐻 ⊗ 𝟙) if you are stuck!"
   ]
  },
  {
   "cell_type": "markdown",
   "metadata": {},
   "source": [
    "For this exercise, you can start by writing out the vector representations of $|+\\rangle$ and $|0\\rangle$ as QuTiP `Qobj` instances:"
   ]
  },
  {
   "cell_type": "code",
   "execution_count": null,
   "metadata": {},
   "outputs": [],
   "source": [
    "ket0 = qt.Qobj([\n",
    "    [1],\n",
    "    [0]\n",
    "])\n",
    "ket_plus = qt.Qobj([\n",
    "    [1],\n",
    "    [1]\n",
    "]) / np.sqrt(2)"
   ]
  },
  {
   "cell_type": "markdown",
   "metadata": {},
   "source": [
    "You can then find the two-qubit state $|+0\\rangle = |{+}\\rangle \\otimes |0\\rangle$ using `qt.tensor`:"
   ]
  },
  {
   "cell_type": "code",
   "execution_count": null,
   "metadata": {},
   "outputs": [],
   "source": [
    "qt.tensor(ket_plus, ket0)"
   ]
  },
  {
   "cell_type": "markdown",
   "metadata": {},
   "source": [
    "Using the hint above, you can verify that this is what you get if you apply the Hadamard operation (represented by the unitary matrix returned by `qt.qip.operations.hadamard_transform`) to the first qubit of a two-qubit register. Note that as mentioned in the hint, you'll need to act on the state of the second qubit with identity matrix to represent doing nothing. The identity matrix can be obtained using the QuTiP function `qt.qeye(2)`."
   ]
  },
  {
   "cell_type": "code",
   "execution_count": null,
   "metadata": {},
   "outputs": [],
   "source": [
    "U = qt.tensor(qt.qip.operations.hadamard_transform(), qt.qeye(2))"
   ]
  },
  {
   "cell_type": "markdown",
   "metadata": {},
   "source": [
    "You can then verify that applying the Hadamard operation to the first qubit does what you expect to the state of the two-qubit register."
   ]
  },
  {
   "cell_type": "code",
   "execution_count": null,
   "metadata": {},
   "outputs": [],
   "source": [
    "U * qt.tensor(ket0, ket0)"
   ]
  },
  {
   "cell_type": "markdown",
   "metadata": {},
   "source": [
    "Since this agrees with the output of `qt.tensor(ket_plus, ket0)`, you've confirmed that you can use the Hadamard operation on the first qubit in a two-qubit register to prepare $|+0\\rangle = |+\\rangle \\otimes |0\\rangle$"
   ]
  }
 ],
 "metadata": {
  "kernelspec": {
   "display_name": "Python 3",
   "language": "python",
   "name": "python3"
  },
  "language_info": {
   "codemirror_mode": {
    "name": "ipython",
    "version": 3
   },
   "file_extension": ".py",
   "mimetype": "text/x-python",
   "name": "python",
   "nbconvert_exporter": "python",
   "pygments_lexer": "ipython3",
   "version": "3.7.8"
  }
 },
 "nbformat": 4,
 "nbformat_minor": 4
}

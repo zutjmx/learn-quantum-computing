{
 "cells": [
  {
   "cell_type": "markdown",
   "metadata": {},
   "source": [
    "# [Learn Quantum Computing with Python and Q#](https://www.manning.com/books/learn-quantum-computing-with-python-and-q-sharp?a_aid=learn-qc-granade&a_bid=ee23f338)<br>Chapter 10 Exercise Solutions\n",
    "----\n",
    "> Copyright (c) Sarah Kaiser and Chris Granade.\n",
    "> Code sample from the book \"Learn Quantum Computing with Python and Q#\" by\n",
    "> Sarah Kaiser and Chris Granade, published by Manning Publications Co.\n",
    "> Book ISBN 9781617296130.\n",
    "> Code licensed under the MIT License."
   ]
  },
  {
   "cell_type": "markdown",
   "metadata": {},
   "source": [
    "### Exercise 10.1 "
   ]
  },
  {
   "cell_type": "markdown",
   "metadata": {},
   "source": [
    "**Use QuTiP to verify that the two operations `ApplyCNOT` and `ApplyCNOTTheOtherWay` can be simulated by the same unitary matrix, and thus do the exact same thing.**"
   ]
  },
  {
   "cell_type": "markdown",
   "metadata": {},
   "source": [
    "This first snippet shows the unitary matrix for `ApplyCNOT` which is equvalent to the QuTiP function `cnot`."
   ]
  },
  {
   "cell_type": "code",
   "execution_count": null,
   "metadata": {},
   "outputs": [],
   "source": [
    "from qutip.qip.operations import cnot\n",
    "\n",
    "cnot()"
   ]
  },
  {
   "cell_type": "markdown",
   "metadata": {},
   "source": [
    "The matrix above is the same as the one below which represents surrounding a `CNOT` operation with `H` on all qubits, and flipping the control and target qubits."
   ]
  },
  {
   "cell_type": "code",
   "execution_count": null,
   "metadata": {},
   "outputs": [],
   "source": [
    "from qutip.tensor import tensor\n",
    "from qutip.qip.operations import hadamard_transform\n",
    "\n",
    "(\n",
    "      tensor([hadamard_transform(), hadamard_transform()])\n",
    "    * cnot(None,1,0)\n",
    "    * tensor([hadamard_transform(), hadamard_transform()])\n",
    ")"
   ]
  },
  {
   "cell_type": "markdown",
   "metadata": {},
   "source": [
    "----\n",
    "### Exercise 10.2"
   ]
  },
  {
   "cell_type": "markdown",
   "metadata": {},
   "source": [
    "**Just as you can use three classical `XOR` instructions to implement an in-place classical swap, you can use three `CNOT` operations to do the same thing as a single `SWAP` operation.\n",
    "In fact, the following Q# snippet does the same thing as `SWAP(left, right)`:**\n",
    "\n",
    "```\n",
    "CNOT(left, right);\n",
    "CNOT(right, left);\n",
    "CNOT(left, right);\n",
    "```\n",
    "**Double-check that this is the same as `SWAP(left, right)`, both by using `AssertOperationsEqualReferenced`, and by using QuTiP.**"
   ]
  },
  {
   "cell_type": "code",
   "execution_count": null,
   "metadata": {},
   "outputs": [],
   "source": [
    "import qsharp"
   ]
  },
  {
   "cell_type": "code",
   "execution_count": null,
   "metadata": {},
   "outputs": [],
   "source": [
    "qsharp.compile(\"\"\"\n",
    "    operation SwapWithCnot(pair : Qubit[]) : Unit {\n",
    "        CNOT(pair[0], pair[1]);\n",
    "        CNOT(pair[1], pair[0]);\n",
    "        CNOT(pair[0], pair[1]);\n",
    "    }\n",
    "\n",
    "    operation SwapDirectly(pair : Qubit[]) : Unit is Adj {\n",
    "        SWAP(pair[0], pair[1]);\n",
    "    }\n",
    "\"\"\")"
   ]
  },
  {
   "cell_type": "code",
   "execution_count": null,
   "metadata": {},
   "outputs": [],
   "source": [
    "assert_swap = qsharp.compile(\"\"\"\n",
    "    open Microsoft.Quantum.Diagnostics;\n",
    "    \n",
    "    operation AssertSwapEqualsThreeCnot() : Unit {\n",
    "        AssertOperationsEqualReferenced(2, SwapWithCnot, SwapDirectly);\n",
    "    }\n",
    "\"\"\")"
   ]
  },
  {
   "cell_type": "code",
   "execution_count": null,
   "metadata": {},
   "outputs": [],
   "source": [
    "assert_swap.simulate()"
   ]
  },
  {
   "cell_type": "markdown",
   "metadata": {},
   "source": [
    "\n",
    "\n",
    "> **Extra credit**: `SWAP(left, right)` is the same as `SWAP(right, left)`, so the snippet above should work even if you start with `CNOT(right, left)` instead. Double-check that!"
   ]
  },
  {
   "cell_type": "code",
   "execution_count": null,
   "metadata": {},
   "outputs": [],
   "source": [
    "qsharp.compile(\"\"\"\n",
    "    operation ReverseSwapWithCnot(pair : Qubit[]) : Unit{\n",
    "        CNOT(pair[1], pair[0]);\n",
    "        CNOT(pair[0], pair[1]);\n",
    "        CNOT(pair[1], pair[0]);\n",
    "    }\n",
    "\n",
    "    operation ReverseSwapDirectly(pair : Qubit[]) : Unit is Adj {\n",
    "        SWAP(pair[1], pair[0]);\n",
    "    }\n",
    "\"\"\")\n",
    "\n",
    "assert_swap_reverse = qsharp.compile(\"\"\"\n",
    "    open Microsoft.Quantum.Diagnostics;\n",
    "    \n",
    "    operation AssertSwapEqualsThreeCnot() : Unit {\n",
    "        AssertOperationsEqualReferenced(2, ReverseSwapWithCnot, ReverseSwapDirectly);\n",
    "    }\n",
    "\"\"\")"
   ]
  },
  {
   "cell_type": "code",
   "execution_count": null,
   "metadata": {},
   "outputs": [],
   "source": [
    "assert_swap_reverse.simulate()"
   ]
  },
  {
   "cell_type": "markdown",
   "metadata": {},
   "source": [
    "----\n",
    "### Exercise 10.3"
   ]
  },
  {
   "cell_type": "markdown",
   "metadata": {},
   "source": [
    "**Using QuTiP, check that when run on two-qubit registers, the two programs from the listing below can be simulated by the same unitary matrix and thus do the same thing to their input registers.**\n",
    "\n",
    "```\n",
    "open Microsoft.Quantum.Diagnostics;\n",
    "\n",
    "operation ApplyXUsingCNOTs(register : Qubit[])\n",
    ": Unit is Adj + Ctl {\n",
    "    within {\n",
    "        ApplyToEachCA(\n",
    "            CNOT(register[0], _),\n",
    "            register[1...]\n",
    "        );\n",
    "    } apply {\n",
    "        X(register[0]);\n",
    "    }\n",
    "}\n",
    "\n",
    "operation CheckThatThisWorks() : Unit {\n",
    "    AssertOperationsEqualReferenced(2,\n",
    "        ApplyXUsingCNOTs,\n",
    "        ApplyToEachCA(X, _)\n",
    "    );\n",
    "    Message(\"Woohoo!\");\n",
    "}\n",
    "```"
   ]
  },
  {
   "cell_type": "code",
   "execution_count": null,
   "metadata": {},
   "outputs": [],
   "source": [
    "from qutip import sigmax, qeye\n",
    "from qutip.tensor import tensor\n",
    "from qutip.qip.operations import cnot\n",
    "from functools import reduce \n",
    "\n",
    "def apply_x_using_cnot(n : int):\n",
    "    within = reduce((lambda x, y: y * x), [cnot(n, 0, i) for i in range(1, n)])  \n",
    "    return within.dag() * tensor([sigmax()] + [qeye(2)] * (n - 1)) * within\n",
    "\n",
    "def apply_to_each_x(n : int):\n",
    "    return tensor([sigmax()] * n)\n",
    "\n",
    "print(apply_x_using_cnot(3))\n",
    "print(apply_to_each_x(3))"
   ]
  },
  {
   "cell_type": "markdown",
   "metadata": {},
   "source": [
    "You can see that the above two matricies are the same and thus represent the same operation."
   ]
  },
  {
   "cell_type": "markdown",
   "metadata": {},
   "source": [
    "----\n",
    "### Exercise 10.4"
   ]
  },
  {
   "cell_type": "markdown",
   "metadata": {},
   "source": [
    "**Try modifying the listing from exercise 10.3 to see if both programs are equivalent when applied to more than two qubits.**\n",
    "\n",
    "> **NOTE:** It can be pretty expensive to use `AssertOperationsEqualReferenced` for more than a few qubits."
   ]
  },
  {
   "cell_type": "code",
   "execution_count": null,
   "metadata": {},
   "outputs": [],
   "source": [
    "[_, check_three_qubit, check_eight_qubit] = qsharp.compile(\"\"\"\n",
    "open Microsoft.Quantum.Diagnostics;\n",
    "\n",
    "operation ApplyXUsingCNOTs(register : Qubit[]) : Unit is Adj + Ctl {\n",
    "    within {\n",
    "        ApplyToEachCA(\n",
    "            CNOT(register[0], _),\n",
    "            register[1...]\n",
    "        );\n",
    "    } apply {\n",
    "        X(register[0]);\n",
    "    }\n",
    "}\n",
    "\n",
    "operation CheckThatThisWorks3() : Unit {\n",
    "    AssertOperationsEqualReferenced(3,\n",
    "        ApplyXUsingCNOTs,\n",
    "        ApplyToEachCA(X, _)\n",
    "    );\n",
    "    Message(\"Woohoo!\");\n",
    "}\n",
    "\n",
    "operation CheckThatThisWorks8() : Unit {\n",
    "    AssertOperationsEqualReferenced(8,\n",
    "        ApplyXUsingCNOTs,\n",
    "        ApplyToEachCA(X, _)\n",
    "    );\n",
    "    Message(\"Woohoo!\");\n",
    "}\n",
    "\n",
    "\"\"\")"
   ]
  },
  {
   "cell_type": "code",
   "execution_count": null,
   "metadata": {},
   "outputs": [],
   "source": [
    "check_three_qubit.simulate()\n",
    "check_eight_qubit.simulate()"
   ]
  },
  {
   "cell_type": "markdown",
   "metadata": {},
   "source": [
    "For at least a small sample, the assert succedes and so you know the two programs are the same. It turns out that they will always be the same, no matter the number of qubits used."
   ]
  },
  {
   "cell_type": "markdown",
   "metadata": {},
   "source": [
    "----\n",
    "### Exercise 10.5\n"
   ]
  },
  {
   "cell_type": "markdown",
   "metadata": {},
   "source": [
    "**Try preparing your register in states other than $\\left|00\\right\\rangle$ before calling `ApplyRotationAboutXX`.\n",
    "Does your operation do what you expected?**\n",
    "\n",
    "> **HINT:** Recall from Part I that you can prepare a copy of the $\\left|1\\right\\rangle$ state by applying an `X` operation, and that you can prepare $\\left|+\\right\\rangle$ by applying an `H` operation."
   ]
  },
  {
   "cell_type": "code",
   "execution_count": null,
   "metadata": {},
   "outputs": [],
   "source": [
    "qsharp.compile(\"\"\"\n",
    "    operation ApplyRotationAboutXX(\n",
    "        angle : Double, register : Qubit[]\n",
    "    ) : Unit is Adj + Ctl {\n",
    "        within {\n",
    "            CNOT(register[0], register[1]);\n",
    "        } apply {\n",
    "            Rx(angle, register[0]);\n",
    "        }\n",
    "    }\n",
    "\"\"\")\n",
    "\n",
    "rotate_zeros_about_xx = qsharp.compile(\"\"\"\n",
    "    open Microsoft.Quantum.Diagnostics;\n",
    "\n",
    "    operation RotateZeroAboutXX(angle : Double) : Unit {\n",
    "        use register = Qubit[2];\n",
    "        ApplyRotationAboutXX(angle, register);\n",
    "        DumpMachine();\n",
    "        Message(\"\\n\");\n",
    "        ResetAll(register);\n",
    "    }\n",
    "\"\"\")\n",
    "    \n",
    "rotate_plus_about_xx = qsharp.compile(\"\"\"\n",
    "    open Microsoft.Quantum.Diagnostics;\n",
    "\n",
    "    operation RotatePlusAboutXX(angle : Double) : Unit {\n",
    "        use register = Qubit[2];\n",
    "        ApplyToEachCA(H, register);\n",
    "        ApplyRotationAboutXX(angle, register);\n",
    "        DumpMachine();\n",
    "        Message(\"\\n\");\n",
    "        ResetAll(register);\n",
    "    }\n",
    "\"\"\")\n",
    "    \n",
    "rotate_ones_about_xx = qsharp.compile(\"\"\"\n",
    "    open Microsoft.Quantum.Diagnostics;\n",
    "\n",
    "    operation RotateOnesAboutXX(angle : Double) : Unit {\n",
    "        use register = Qubit[2];\n",
    "        ApplyToEachCA(X, register);\n",
    "        ApplyRotationAboutXX(angle, register);\n",
    "        DumpMachine();\n",
    "        Message(\"\\n\");\n",
    "        ResetAll(register);\n",
    "    }\n",
    "\"\"\")"
   ]
  },
  {
   "cell_type": "markdown",
   "metadata": {},
   "source": [
    "With that Q# code compiled, make a table of the resulting states for a range of angles from 0 to $2\\pi$. Here we started with the $|00\\rangle$ state for comparison."
   ]
  },
  {
   "cell_type": "code",
   "execution_count": null,
   "metadata": {},
   "outputs": [],
   "source": [
    "import numpy as np\n",
    "[rotate_zeros_about_xx.simulate(angle=a * np.pi / 4) for a in range(8)]"
   ]
  },
  {
   "cell_type": "markdown",
   "metadata": {},
   "source": [
    "Now repeat the rotation angles but start with the state $|++\\rangle$."
   ]
  },
  {
   "cell_type": "code",
   "execution_count": null,
   "metadata": {},
   "outputs": [],
   "source": [
    "import numpy as np\n",
    "[rotate_plus_about_xx.simulate(angle=a * np.pi / 4) for a in range(0, 8)]"
   ]
  },
  {
   "cell_type": "markdown",
   "metadata": {},
   "source": [
    "Note that these are all equivalent up to a global phase; rotating the |++⟩ state around the 𝑋𝑋-axis doesn't do anything."
   ]
  },
  {
   "cell_type": "markdown",
   "metadata": {},
   "source": [
    "One more time, repeat the angles with the inital state of $|11\\rangle$."
   ]
  },
  {
   "cell_type": "code",
   "execution_count": null,
   "metadata": {},
   "outputs": [],
   "source": [
    "import numpy as np\n",
    "[rotate_ones_about_xx.simulate(angle=a * np.pi / 4) for a in range(0, 8)]"
   ]
  },
  {
   "cell_type": "markdown",
   "metadata": {},
   "source": [
    "----\n",
    "### Exercise 10.6"
   ]
  },
  {
   "cell_type": "markdown",
   "metadata": {},
   "source": [
    "**Try using `DumpMachine` to explore how the `Rx` operation acts on a single qubit, and compare to the two-qubit rotation about the $X \\otimes X$ axis that you implemented in the snippet below.\n",
    "How are the two rotation operations similar, and how do they differ?**\n",
    "```\n",
    "open Microsoft.Quantum.Diagnostics;\n",
    "open Microsoft.Quantum.Math;\n",
    "\n",
    "operation ApplyRotationAboutXX(angle : Double, register : Qubit[])\n",
    ": Unit is Adj + Ctl {\n",
    "    within {\n",
    "        CNOT(register[0], register[1]);\n",
    "    } apply {\n",
    "        Rx(angle, register[0]);\n",
    "    }\n",
    "}\n",
    "\n",
    "operation DumpXXRotation() : Unit {\n",
    "    let angle = PI() / 2.0;\n",
    "    use register = Qubit[2];\n",
    "    ApplyRotationAboutXX(angle, register);\n",
    "    DumpMachine();\n",
    "    ResetAll(register);\n",
    "}\n",
    "```"
   ]
  },
  {
   "cell_type": "code",
   "execution_count": null,
   "metadata": {},
   "outputs": [],
   "source": [
    "[_, dump_rx_rotation, dump_xx_rotation] = qsharp.compile(\"\"\"\n",
    "    open Microsoft.Quantum.Diagnostics;\n",
    "    open Microsoft.Quantum.Math;\n",
    "\n",
    "    operation ApplyRotationAboutXX(\n",
    "        angle : Double, register : Qubit[]\n",
    "    ) : Unit is Adj + Ctl {\n",
    "        within {\n",
    "            CNOT(register[0], register[1]);\n",
    "        } apply {\n",
    "            Rx(angle, register[0]);\n",
    "        }\n",
    "    }\n",
    "\n",
    "    operation DumpRxRotation(angle : Double) : Unit {\n",
    "        use q = Qubit();\n",
    "        Rx(angle, q);\n",
    "        DumpMachine();\n",
    "        Message(\"\\n\");\n",
    "        Reset(q);\n",
    "    }\n",
    "\n",
    "    operation DumpXXRotation(angle : Double) : Unit {\n",
    "        use register = Qubit[2];\n",
    "        ApplyRotationAboutXX(angle, register);\n",
    "        DumpMachine();\n",
    "        Message(\"\\n\");\n",
    "        ResetAll(register);\n",
    "    }\n",
    "\"\"\")"
   ]
  },
  {
   "cell_type": "code",
   "execution_count": null,
   "metadata": {},
   "outputs": [],
   "source": [
    "import numpy as np\n",
    "[dump_rx_rotation.simulate(angle=a * np.pi / 4) for a in range(0, 8)]"
   ]
  },
  {
   "cell_type": "code",
   "execution_count": null,
   "metadata": {},
   "outputs": [],
   "source": [
    "[dump_xx_rotation.simulate(angle=a * np.pi / 4) for a in range(0, 8)]"
   ]
  },
  {
   "cell_type": "markdown",
   "metadata": {},
   "source": [
    "The rotations are similar in that the amplitudes for the first ($|0\\rangle$ or $|00\\rangle$) and last state ($|1\\rangle$ or $|11\\rangle$) have the same amplitudes. They are obviously different from the standpoint they operate on different numbers of qubits."
   ]
  },
  {
   "cell_type": "markdown",
   "metadata": {},
   "source": [
    "**Compare rotating about the $X \\otimes X$ axis with applying an `Rx` operation to each qubit in a two-qubit register.**"
   ]
  },
  {
   "cell_type": "code",
   "execution_count": null,
   "metadata": {},
   "outputs": [],
   "source": [
    "dump_rxrx_rotation = qsharp.compile(\"\"\"\n",
    "    open Microsoft.Quantum.Diagnostics;\n",
    "    open Microsoft.Quantum.Math;\n",
    "\n",
    "    operation DumpRxRxRotation(angle : Double) : Unit {\n",
    "        use register = Qubit[2];\n",
    "        ApplyToEach(Rx(angle, _), register);\n",
    "        DumpMachine();\n",
    "        Message(\"\\n\");\n",
    "        ResetAll(register);\n",
    "    }\n",
    "\"\"\")"
   ]
  },
  {
   "cell_type": "code",
   "execution_count": null,
   "metadata": {},
   "outputs": [],
   "source": [
    "[dump_rxrx_rotation.simulate(angle=a * np.pi / 4) for a in range(0, 8)]"
   ]
  },
  {
   "cell_type": "markdown",
   "metadata": {},
   "source": [
    "You can see here that emphatically applying the `Rx` operation to each of the two qubits in a register is _not_ the same as rotating about the $XX$-axis."
   ]
  },
  {
   "cell_type": "markdown",
   "metadata": {},
   "source": [
    "----\n",
    "### Epilogue\n",
    "\n",
    "_The following cell logs what version of the components this was last tested with._"
   ]
  },
  {
   "cell_type": "code",
   "execution_count": 1,
   "metadata": {},
   "outputs": [
    {
     "name": "stdout",
     "output_type": "stream",
     "text": [
      "Preparing Q# environment...\n"
     ]
    },
    {
     "data": {
      "text/plain": [
       "{'iqsharp': LooseVersion ('0.17.2105143879'),\n",
       " 'Jupyter Core': LooseVersion ('1.5.0.0'),\n",
       " '.NET Runtime': LooseVersion ('.NETCoreApp,Version=v3.1'),\n",
       " 'qsharp': LooseVersion ('0.17.2105.143879')}"
      ]
     },
     "execution_count": 1,
     "metadata": {},
     "output_type": "execute_result"
    }
   ],
   "source": [
    "qsharp.component_versions()"
   ]
  }
 ],
 "metadata": {
  "kernelspec": {
   "display_name": "Python 3",
   "language": "python",
   "name": "python3"
  },
  "language_info": {
   "codemirror_mode": {
    "name": "ipython",
    "version": 3
   },
   "file_extension": ".py",
   "mimetype": "text/x-python",
   "name": "python",
   "nbconvert_exporter": "python",
   "pygments_lexer": "ipython3",
   "version": "3.7.10"
  }
 },
 "nbformat": 4,
 "nbformat_minor": 4
}

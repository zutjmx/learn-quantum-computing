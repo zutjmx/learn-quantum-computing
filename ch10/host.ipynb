{
 "cells": [
  {
   "cell_type": "markdown",
   "metadata": {},
   "source": [
    "# [Learn Quantum Computing with Python and Q#](https://www.manning.com/books/learn-quantum-computing-with-python-and-q-sharp?a_aid=learn-qc-granade&a_bid=ee23f338)\n",
    "# Chapter 10 | Solving chemistry problems with quantum computers\n",
    "----\n",
    "> Copyright (c) Sarah Kaiser and Chris Granade.\n",
    "> Code sample from the book \"Learn Quantum Computing with Python and Q#\" by\n",
    "> Sarah Kaiser and Chris Granade, published by Manning Publications Co.\n",
    "> Book ISBN 9781617296130.\n",
    "> Code licensed under the MIT License.\n",
    "---"
   ]
  },
  {
   "cell_type": "code",
   "execution_count": 1,
   "metadata": {},
   "outputs": [
    {
     "name": "stdout",
     "output_type": "stream",
     "text": [
      "Preparing Q# environment...\n",
      "Number of bond lengths: 54.\n",
      "\n",
      "Estimating energy for bond length of 0.2 Å.\n",
      "Estimating energy for bond length of 0.25 Å.\n",
      "Estimating energy for bond length of 0.3 Å.\n",
      "Estimating energy for bond length of 0.35 Å.\n",
      "Estimating energy for bond length of 0.4 Å.\n",
      "Estimating energy for bond length of 0.45 Å.\n",
      "Estimating energy for bond length of 0.5 Å.\n",
      "Estimating energy for bond length of 0.55 Å.\n",
      "Estimating energy for bond length of 0.6 Å.\n",
      "Estimating energy for bond length of 0.65 Å.\n",
      "Estimating energy for bond length of 0.7 Å.\n",
      "Estimating energy for bond length of 0.75 Å.\n",
      "Estimating energy for bond length of 0.8 Å.\n",
      "Estimating energy for bond length of 0.85 Å.\n",
      "Estimating energy for bond length of 0.9 Å.\n",
      "Estimating energy for bond length of 0.95 Å.\n",
      "Estimating energy for bond length of 1.0 Å.\n",
      "Estimating energy for bond length of 1.05 Å.\n",
      "Estimating energy for bond length of 1.1 Å.\n",
      "Estimating energy for bond length of 1.15 Å.\n",
      "Estimating energy for bond length of 1.2 Å.\n",
      "Estimating energy for bond length of 1.25 Å.\n",
      "Estimating energy for bond length of 1.3 Å.\n",
      "Estimating energy for bond length of 1.35 Å.\n",
      "Estimating energy for bond length of 1.4 Å.\n",
      "Estimating energy for bond length of 1.45 Å.\n",
      "Estimating energy for bond length of 1.5 Å.\n",
      "Estimating energy for bond length of 1.55 Å.\n",
      "Estimating energy for bond length of 1.6 Å.\n",
      "Estimating energy for bond length of 1.65 Å.\n",
      "Estimating energy for bond length of 1.7 Å.\n",
      "Estimating energy for bond length of 1.75 Å.\n",
      "Estimating energy for bond length of 1.8 Å.\n",
      "Estimating energy for bond length of 1.85 Å.\n",
      "Estimating energy for bond length of 1.9 Å.\n",
      "Estimating energy for bond length of 1.95 Å.\n",
      "Estimating energy for bond length of 2.0 Å.\n",
      "Estimating energy for bond length of 2.05 Å.\n",
      "Estimating energy for bond length of 2.1 Å.\n",
      "Estimating energy for bond length of 2.15 Å.\n",
      "Estimating energy for bond length of 2.2 Å.\n",
      "Estimating energy for bond length of 2.25 Å.\n",
      "Estimating energy for bond length of 2.3 Å.\n",
      "Estimating energy for bond length of 2.35 Å.\n",
      "Estimating energy for bond length of 2.4 Å.\n",
      "Estimating energy for bond length of 2.45 Å.\n",
      "Estimating energy for bond length of 2.5 Å.\n",
      "Estimating energy for bond length of 2.55 Å.\n",
      "Estimating energy for bond length of 2.6 Å.\n",
      "Estimating energy for bond length of 2.65 Å.\n",
      "Estimating energy for bond length of 2.7 Å.\n",
      "Estimating energy for bond length of 2.75 Å.\n",
      "Estimating energy for bond length of 2.8 Å.\n",
      "Estimating energy for bond length of 2.85 Å.\n"
     ]
    },
    {
     "data": {
      "image/png": "[encoded data removed]",
      "text/plain": [
       "<Figure size 432x288 with 1 Axes>"
      ]
     },
     "metadata": {
      "needs_background": "light"
     },
     "output_type": "display_data"
    },
    {
     "data": {
      "text/plain": [
       "<Figure size 432x288 with 0 Axes>"
      ]
     },
     "metadata": {},
     "output_type": "display_data"
    }
   ],
   "source": [
    "%matplotlib inline\n",
    "%run host.py"
   ]
  },
  {
   "cell_type": "code",
   "execution_count": 2,
   "metadata": {},
   "outputs": [
    {
     "data": {
      "text/plain": [
       "{'iqsharp': LooseVersion ('0.15.2101125897'),\n",
       " 'Jupyter Core': LooseVersion ('1.5.0.0'),\n",
       " '.NET Runtime': LooseVersion ('.NETCoreApp,Version=v3.1'),\n",
       " 'qsharp': LooseVersion ('0.15.2101.125897')}"
      ]
     },
     "execution_count": 2,
     "metadata": {},
     "output_type": "execute_result"
    }
   ],
   "source": [
    "qsharp.component_versions()"
   ]
  }
 ],
 "metadata": {
  "kernelspec": {
   "display_name": "Python 3",
   "language": "python",
   "name": "python3"
  },
  "language_info": {
   "codemirror_mode": {
    "name": "ipython",
    "version": 3
   },
   "file_extension": ".py",
   "mimetype": "text/x-python",
   "name": "python",
   "nbconvert_exporter": "python",
   "pygments_lexer": "ipython3",
   "version": "3.7.10"
  }
 },
 "nbformat": 4,
 "nbformat_minor": 2
}

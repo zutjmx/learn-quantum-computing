{
 "cells": [
  {
   "cell_type": "markdown",
   "metadata": {},
   "source": [
    "# [Learn Quantum Computing with Python and Q#](https://www.manning.com/books/learn-quantum-computing-with-python-and-q-sharp?a_aid=learn-qc-granade&a_bid=ee23f338)\n",
    "# Chapter 7 | Changing the odds: An introduction to Q<span>#</span>\n",
    "----\n",
    "> Copyright (c) Sarah Kaiser and Chris Granade.\n",
    "> Code sample from the book \"Learn Quantum Computing with Python and Q#\" by\n",
    "> Sarah Kaiser and Chris Granade, published by Manning Publications Co.\n",
    "> Book ISBN 9781617296130.\n",
    "> Code licensed under the MIT License."
   ]
  },
  {
   "cell_type": "markdown",
   "metadata": {},
   "source": [
    "## Classical Hello"
   ]
  },
  {
   "cell_type": "code",
   "execution_count": 1,
   "metadata": {},
   "outputs": [
    {
     "data": {
      "application/json": "[\"HelloWorld\"]",
      "text/html": [
       "<ul><li>HelloWorld</li></ul>"
      ],
      "text/plain": [
       "HelloWorld"
      ]
     },
     "execution_count": 1,
     "metadata": {},
     "output_type": "execute_result"
    }
   ],
   "source": [
    "function HelloWorld() : Unit {\n",
    "   Message(\"Hello, classical world!\");  \n",
    "}"
   ]
  },
  {
   "cell_type": "code",
   "execution_count": 2,
   "metadata": {},
   "outputs": [
    {
     "name": "stdout",
     "output_type": "stream",
     "text": [
      "Hello, classical world!\r\n"
     ]
    },
    {
     "data": {
      "application/json": "{\"@type\":\"tuple\"}",
      "text/plain": [
       "()"
      ]
     },
     "execution_count": 2,
     "metadata": {},
     "output_type": "execute_result"
    }
   ],
   "source": [
    "%simulate HelloWorld"
   ]
  },
  {
   "cell_type": "markdown",
   "metadata": {},
   "source": [
    "## QRNG"
   ]
  },
  {
   "cell_type": "code",
   "execution_count": 3,
   "metadata": {},
   "outputs": [
    {
     "data": {
      "application/json": "[\"GetNextRandomBit\",\"PlayMorganasGame\"]",
      "text/html": [
       "<ul><li>GetNextRandomBit</li><li>PlayMorganasGame</li></ul>"
      ],
      "text/plain": [
       "GetNextRandomBit, PlayMorganasGame"
      ]
     },
     "execution_count": 3,
     "metadata": {},
     "output_type": "execute_result"
    }
   ],
   "source": [
    "operation GetNextRandomBit() : Result {\n",
    "    use qubit = Qubit();\n",
    "    H(qubit);\n",
    "    return M(qubit);                                       \n",
    "}\n",
    "\n",
    "operation PlayMorganasGame() : Unit {                          \n",
    "    mutable nRounds = 0;                                       \n",
    "    mutable done = false;\n",
    "    repeat {                                                   \n",
    "    set nRounds = nRounds + 1;\n",
    "        set done = (GetNextRandomBit() == Zero);                 \n",
    "    }\n",
    "    until done                                                    \n",
    "    fixup {}\n",
    "\n",
    "    Message($\"It took Lancelot {nRounds} turns to get home.\"); \n",
    "}"
   ]
  },
  {
   "cell_type": "code",
   "execution_count": 4,
   "metadata": {},
   "outputs": [
    {
     "name": "stdout",
     "output_type": "stream",
     "text": [
      "It took Lancelot 1 turns to get home.\r\n"
     ]
    },
    {
     "data": {
      "application/json": "{\"@type\":\"tuple\"}",
      "text/plain": [
       "()"
      ]
     },
     "execution_count": 4,
     "metadata": {},
     "output_type": "execute_result"
    }
   ],
   "source": [
    "%simulate PlayMorganasGame"
   ]
  },
  {
   "cell_type": "markdown",
   "metadata": {},
   "source": [
    "## Biased QRNG"
   ]
  },
  {
   "cell_type": "code",
   "execution_count": 5,
   "metadata": {},
   "outputs": [
    {
     "data": {
      "application/json": "[\"PrepareBiasedCoin\",\"GetNextRandomBit\",\"PlayMorganasGame\"]",
      "text/html": [
       "<ul><li>PrepareBiasedCoin</li><li>GetNextRandomBit</li><li>PlayMorganasGame</li></ul>"
      ],
      "text/plain": [
       "PrepareBiasedCoin, GetNextRandomBit, PlayMorganasGame"
      ]
     },
     "execution_count": 5,
     "metadata": {},
     "output_type": "execute_result"
    }
   ],
   "source": [
    "open Microsoft.Quantum.Math;\n",
    "open Microsoft.Quantum.Measurement;\n",
    "\n",
    "operation PrepareBiasedCoin(winProbability : Double, qubit : Qubit) : Unit {\n",
    "    let rotationAngle = 2.0 * ArcCos(Sqrt(1.0 - winProbability));   \n",
    "    Ry(rotationAngle, qubit);\n",
    "}\n",
    "\n",
    "/// # Summary\n",
    "/// Given a state preparation operation, uses that operation to generate a\n",
    "/// random bit.\n",
    "///\n",
    "/// # Description\n",
    "/// This operation allocates a qubit, using an operation to prepare the state\n",
    "/// of that qubit, then measures and returns the result.\n",
    "///\n",
    "/// # Input\n",
    "/// ## statePreparation\n",
    "/// Operation to be used to prepare the state of the qubit used as a coin.\n",
    "///\n",
    "/// # Output\n",
    "/// The result of measuring the state prepared by the given state preparation\n",
    "/// operation.\n",
    "operation GetNextRandomBit(statePreparation : (Qubit => Unit)) : Result {\n",
    "    use qubit = Qubit();\n",
    "    statePreparation(qubit);                                    \n",
    "    return MResetZ(qubit);\n",
    "}\n",
    "\n",
    "/// # Summary\n",
    "/// Play Morgana's biased coin flipping game, give the chances of Morgana winning.\n",
    "///\n",
    "/// # Input\n",
    "/// ## winProbability\n",
    "/// Probability that Morgana wins a particular iteration of the game.\n",
    "///\n",
    "operation PlayMorganasGame(winProbability : Double) : Unit {\n",
    "    mutable nRounds = 0;\n",
    "    mutable done = false;\n",
    "    let prep = PrepareBiasedCoin(winProbability, _);                \n",
    "    repeat {\n",
    "        set nRounds = nRounds + 1;\n",
    "        set done = (GetNextRandomBit(prep) == Zero);\n",
    "    }\n",
    "    until done;\n",
    "    Message($\"It took Lancelot {nRounds} turns to get home.\");\n",
    "}"
   ]
  },
  {
   "cell_type": "code",
   "execution_count": 6,
   "metadata": {},
   "outputs": [
    {
     "name": "stdout",
     "output_type": "stream",
     "text": [
      "It took Lancelot 419 turns to get home.\r\n"
     ]
    },
    {
     "data": {
      "application/json": "{\"@type\":\"tuple\"}",
      "text/plain": [
       "()"
      ]
     },
     "execution_count": 6,
     "metadata": {},
     "output_type": "execute_result"
    }
   ],
   "source": [
    "%simulate PlayMorganasGame winProbability=0.999"
   ]
  },
  {
   "cell_type": "markdown",
   "metadata": {},
   "source": [
    "## Epilogue ##"
   ]
  },
  {
   "cell_type": "code",
   "execution_count": 7,
   "metadata": {},
   "outputs": [
    {
     "data": {
      "application/json": "{\"rows\":[{\"@type\":\"@tuple\",\"Item1\":\"iqsharp\",\"Item2\":\"0.17.2105143879\"},{\"@type\":\"@tuple\",\"Item1\":\"Jupyter Core\",\"Item2\":\"1.5.0.0\"},{\"@type\":\"@tuple\",\"Item1\":\".NET Runtime\",\"Item2\":\".NETCoreApp,Version=v3.1\"}]}",
      "text/html": [
       "<table><thead><tr><th style=\"text-align: start;\">Component</th><th style=\"text-align: start;\">Version</th></tr></thead><tbody><tr><td style=\"text-align: start;\">iqsharp</td><td style=\"text-align: start;\">0.17.2105143879</td></tr><tr><td style=\"text-align: start;\">Jupyter Core</td><td style=\"text-align: start;\">1.5.0.0</td></tr><tr><td style=\"text-align: start;\">.NET Runtime</td><td style=\"text-align: start;\">.NETCoreApp,Version=v3.1</td></tr></tbody></table>"
      ],
      "text/plain": [
       "Component    Version\r\n",
       "------------ ------------------------\r\n",
       "iqsharp      0.17.2105143879\r\n",
       "Jupyter Core 1.5.0.0\r\n",
       ".NET Runtime .NETCoreApp,Version=v3.1\r\n"
      ]
     },
     "metadata": {},
     "output_type": "display_data"
    }
   ],
   "source": [
    "%version"
   ]
  }
 ],
 "metadata": {
  "kernelspec": {
   "display_name": "Q#",
   "language": "qsharp",
   "name": "iqsharp"
  },
  "language_info": {
   "file_extension": ".qs",
   "mimetype": "text/x-qsharp",
   "name": "qsharp",
   "version": "0.14"
  }
 },
 "nbformat": 4,
 "nbformat_minor": 2
}

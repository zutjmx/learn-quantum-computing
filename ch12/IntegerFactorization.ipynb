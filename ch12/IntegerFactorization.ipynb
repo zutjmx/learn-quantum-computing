{
 "cells": [
  {
   "cell_type": "markdown",
   "metadata": {},
   "source": [
    "# [Learn Quantum Computing with Python and Q#](https://www.manning.com/books/learn-quantum-computing-with-python-and-q-sharp?a_aid=learn-qc-granade&a_bid=ee23f338)\n",
    "# Chapter 12 | Arithmetic with quantum computers\n",
    "----\n",
    "> Copyright (c) Sarah Kaiser and Chris Granade.\n",
    "> Code sample from the book \"Learn Quantum Computing with Python and Q#\" by\n",
    "> Sarah Kaiser and Chris Granade, published by Manning Publications Co.\n",
    "> Book ISBN 9781617296130.\n",
    "> Code licensed under the MIT License."
   ]
  },
  {
   "cell_type": "markdown",
   "metadata": {},
   "source": [
    "# Arithmetic samples"
   ]
  },
  {
   "cell_type": "markdown",
   "metadata": {},
   "source": [
    "For this section of the notebook, we will turn off displaying states with small amplitudes so that when we are looking at larger registers it is easy to see the data we are looking for."
   ]
  },
  {
   "cell_type": "code",
   "execution_count": 1,
   "metadata": {},
   "outputs": [
    {
     "data": {
      "application/json": "\"\\\"true\\\"\"",
      "text/plain": [
       "\"true\""
      ]
     },
     "execution_count": 1,
     "metadata": {},
     "output_type": "execute_result"
    }
   ],
   "source": [
    "%config dump.truncateSmallAmplitudes = \"true\""
   ]
  },
  {
   "cell_type": "markdown",
   "metadata": {},
   "source": [
    "The `Microsoft.Quantum.Arithmetic` namespace is provided by the Q# Numerics package, and we want to tell the Q# kernel here to add that package to our workspace."
   ]
  },
  {
   "cell_type": "code",
   "execution_count": 2,
   "metadata": {},
   "outputs": [
    {
     "data": {
      "application/json": "{\"LastUpdated\":\"2021-05-27T08:41:20.2102965-07:00\",\"IsCompleted\":true,\"Description\":\"Adding package Microsoft.Quantum.Numerics\",\"Subtask\":\"done\"}",
      "text/plain": [
       "Adding package Microsoft.Quantum.Numerics: done!"
      ]
     },
     "metadata": {},
     "output_type": "display_data"
    },
    {
     "data": {
      "application/json": "[\"Microsoft.Quantum.Standard::0.17.2105143879\",\"Microsoft.Quantum.Standard.Visualization::0.17.2105143879\",\"Microsoft.Quantum.Numerics::0.17.2105143879\"]",
      "text/html": [
       "<ul><li>Microsoft.Quantum.Standard::0.17.2105143879</li><li>Microsoft.Quantum.Standard.Visualization::0.17.2105143879</li><li>Microsoft.Quantum.Numerics::0.17.2105143879</li></ul>"
      ],
      "text/plain": [
       "Microsoft.Quantum.Standard::0.17.2105143879, Microsoft.Quantum.Standard.Visualization::0.17.2105143879, Microsoft.Quantum.Numerics::0.17.2105143879"
      ]
     },
     "execution_count": 2,
     "metadata": {},
     "output_type": "execute_result"
    }
   ],
   "source": [
    "%package Microsoft.Quantum.Numerics"
   ]
  },
  {
   "cell_type": "markdown",
   "metadata": {},
   "source": [
    "### Sample 1: Adding integers with qubits"
   ]
  },
  {
   "cell_type": "code",
   "execution_count": 3,
   "metadata": {},
   "outputs": [
    {
     "data": {
      "application/json": "[\"AddCustom\"]",
      "text/html": [
       "<ul><li>AddCustom</li></ul>"
      ],
      "text/plain": [
       "AddCustom"
      ]
     },
     "execution_count": 3,
     "metadata": {},
     "output_type": "execute_result"
    }
   ],
   "source": [
    "open Microsoft.Quantum.Arithmetic;\n",
    "open Microsoft.Quantum.Diagnostics;\n",
    "open Microsoft.Quantum.Math;\n",
    "\n",
    "operation AddCustom(num1 : Int, num2 : Int) : Int {\n",
    "    // We need the registers to be large enough to hold the max possible sum\n",
    "    let bitSize = BitSizeI(MaxI((num1, num2))) + 1;\n",
    "    use (reg1, reg2) = (Qubit[bitSize], Qubit[bitSize]);\n",
    "        \n",
    "    // Here we configure two registers with LittleEndian encoding\n",
    "    let qubits1 = LittleEndian(reg1);\n",
    "    let qubits2 = LittleEndian(reg2);\n",
    "        \n",
    "    // Encode the integers in the qubit registers\n",
    "    ApplyXorInPlace(num1, qubits1);\n",
    "    ApplyXorInPlace(num2, qubits2);\n",
    "        \n",
    "    Message(\"Before addition:\");\n",
    "    DumpRegister((),reg2);\n",
    "        \n",
    "    // Using the Numerics package operation `AddI` you can add integers \n",
    "    // represented by two input registers `qubits1` and `qubits2`\n",
    "    AddI(qubits1, qubits2);\n",
    "\n",
    "    Message(\"After addition:\");\n",
    "    DumpRegister((),reg2);\n",
    "        \n",
    "    // Lastly, you reset the first register and measure the register\n",
    "    // with the results. `MeasureInteger` also resets the register \n",
    "    // after it is done.\n",
    "    ResetAll(reg1);\n",
    "    return MeasureInteger(qubits2);\n",
    "}"
   ]
  },
  {
   "cell_type": "code",
   "execution_count": 4,
   "metadata": {},
   "outputs": [
    {
     "name": "stdout",
     "output_type": "stream",
     "text": [
      "Before addition:\r\n"
     ]
    },
    {
     "data": {
      "application/json": "{\"div_id\":\"dump-machine-div-ac69a1af-9f0d-4cc6-a9ff-73f57bc48bf4\",\"qubit_ids\":[4,5,6,7],\"n_qubits\":4,\"amplitudes\":[{\"Real\":0.0,\"Imaginary\":0.0,\"Magnitude\":0.0,\"Phase\":0.0},{\"Real\":0.0,\"Imaginary\":0.0,\"Magnitude\":0.0,\"Phase\":0.0},{\"Real\":0.0,\"Imaginary\":0.0,\"Magnitude\":0.0,\"Phase\":0.0},{\"Real\":0.0,\"Imaginary\":0.0,\"Magnitude\":0.0,\"Phase\":0.0},{\"Real\":0.0,\"Imaginary\":0.0,\"Magnitude\":0.0,\"Phase\":0.0},{\"Real\":0.0,\"Imaginary\":0.0,\"Magnitude\":0.0,\"Phase\":0.0},{\"Real\":1.0,\"Imaginary\":0.0,\"Magnitude\":1.0,\"Phase\":0.0},{\"Real\":0.0,\"Imaginary\":0.0,\"Magnitude\":0.0,\"Phase\":0.0},{\"Real\":0.0,\"Imaginary\":0.0,\"Magnitude\":0.0,\"Phase\":0.0},{\"Real\":0.0,\"Imaginary\":0.0,\"Magnitude\":0.0,\"Phase\":0.0},{\"Real\":0.0,\"Imaginary\":0.0,\"Magnitude\":0.0,\"Phase\":0.0},{\"Real\":0.0,\"Imaginary\":0.0,\"Magnitude\":0.0,\"Phase\":0.0},{\"Real\":0.0,\"Imaginary\":0.0,\"Magnitude\":0.0,\"Phase\":0.0},{\"Real\":0.0,\"Imaginary\":0.0,\"Magnitude\":0.0,\"Phase\":0.0},{\"Real\":0.0,\"Imaginary\":0.0,\"Magnitude\":0.0,\"Phase\":0.0},{\"Real\":0.0,\"Imaginary\":0.0,\"Magnitude\":0.0,\"Phase\":0.0}]}",
      "text/html": [
       "\r\n",
       "                    <table style=\"table-layout: fixed; width: 100%\">\r\n",
       "                        <thead>\r\n",
       "                            \r\n",
       "                        <tr>\r\n",
       "                            <th>Qubit IDs</th>\r\n",
       "                            <td span=\"3\">4, 5, 6, 7</td>\r\n",
       "                        </tr>\r\n",
       "                    \r\n",
       "                            <tr>\r\n",
       "                                <th style=\"width: 20ch)\">Basis state (little endian)</th>\r\n",
       "                                <th style=\"width: 20ch\">Amplitude</th><th style=\"width: calc(100% - 26ch - 20ch)\">Meas. Pr.</th><th style=\"width: 6ch\">Phase</th>\r\n",
       "                            </tr>\r\n",
       "                        </thead>\r\n",
       "                        <tbody>\r\n",
       "                        \r\n",
       "                            <tr>\r\n",
       "                                <td>$\\left|6\\right\\rangle$</td>\r\n",
       "                                <td>$1.0000 + 0.0000 i$</td>\r\n",
       "                                \r\n",
       "                                <td>\r\n",
       "                                    <progress\r\n",
       "                                        max=\"100\"\r\n",
       "                                        value=\"100\"\r\n",
       "                                        style=\"width: 100%;\"\r\n",
       "                                    > \r\n",
       "                                    <td>\r\n",
       "                                    <p id=\"round-b8698c74-deaa-4f4d-9907-883dbce76fae\"> \r\n",
       "                                    <script>\r\n",
       "                                    var num = 100;\r\n",
       "                                    num = num.toFixed(4);\r\n",
       "                                    var num_string = num + \"%\";\r\n",
       "                                     document.getElementById(\"round-b8698c74-deaa-4f4d-9907-883dbce76fae\").innerHTML = num_string;\r\n",
       "                                    </script> </p>\r\n",
       "                                    </td>\r\n",
       "                                </td>\r\n",
       "                            \r\n",
       "                                \r\n",
       "                                <td style=\"transform: rotate(0deg);\r\n",
       "                   text-align: center;\">\r\n",
       "                                 ↑\r\n",
       "                                </td>\r\n",
       "                            \r\n",
       "                            </tr>\r\n",
       "                        \r\n",
       "                        </tbody>\r\n",
       "                    </table>"
      ],
      "text/plain": [
       "|6⟩\t1 + 0𝑖"
      ]
     },
     "metadata": {},
     "output_type": "display_data"
    },
    {
     "name": "stdout",
     "output_type": "stream",
     "text": [
      "After addition:\r\n"
     ]
    },
    {
     "data": {
      "application/json": "{\"div_id\":\"dump-machine-div-29e2048b-90ad-46a7-8472-8da26d66824c\",\"qubit_ids\":[4,5,6,7],\"n_qubits\":4,\"amplitudes\":[{\"Real\":0.0,\"Imaginary\":0.0,\"Magnitude\":0.0,\"Phase\":0.0},{\"Real\":0.0,\"Imaginary\":0.0,\"Magnitude\":0.0,\"Phase\":0.0},{\"Real\":0.0,\"Imaginary\":0.0,\"Magnitude\":0.0,\"Phase\":0.0},{\"Real\":0.0,\"Imaginary\":0.0,\"Magnitude\":0.0,\"Phase\":0.0},{\"Real\":0.0,\"Imaginary\":0.0,\"Magnitude\":0.0,\"Phase\":0.0},{\"Real\":0.0,\"Imaginary\":0.0,\"Magnitude\":0.0,\"Phase\":0.0},{\"Real\":0.0,\"Imaginary\":0.0,\"Magnitude\":0.0,\"Phase\":0.0},{\"Real\":0.0,\"Imaginary\":0.0,\"Magnitude\":0.0,\"Phase\":0.0},{\"Real\":0.0,\"Imaginary\":0.0,\"Magnitude\":0.0,\"Phase\":0.0},{\"Real\":0.0,\"Imaginary\":0.0,\"Magnitude\":0.0,\"Phase\":0.0},{\"Real\":1.0,\"Imaginary\":0.0,\"Magnitude\":1.0,\"Phase\":0.0},{\"Real\":0.0,\"Imaginary\":0.0,\"Magnitude\":0.0,\"Phase\":0.0},{\"Real\":0.0,\"Imaginary\":0.0,\"Magnitude\":0.0,\"Phase\":0.0},{\"Real\":0.0,\"Imaginary\":0.0,\"Magnitude\":0.0,\"Phase\":0.0},{\"Real\":0.0,\"Imaginary\":0.0,\"Magnitude\":0.0,\"Phase\":0.0},{\"Real\":0.0,\"Imaginary\":0.0,\"Magnitude\":0.0,\"Phase\":0.0}]}",
      "text/html": [
       "\r\n",
       "                    <table style=\"table-layout: fixed; width: 100%\">\r\n",
       "                        <thead>\r\n",
       "                            \r\n",
       "                        <tr>\r\n",
       "                            <th>Qubit IDs</th>\r\n",
       "                            <td span=\"3\">4, 5, 6, 7</td>\r\n",
       "                        </tr>\r\n",
       "                    \r\n",
       "                            <tr>\r\n",
       "                                <th style=\"width: 20ch)\">Basis state (little endian)</th>\r\n",
       "                                <th style=\"width: 20ch\">Amplitude</th><th style=\"width: calc(100% - 26ch - 20ch)\">Meas. Pr.</th><th style=\"width: 6ch\">Phase</th>\r\n",
       "                            </tr>\r\n",
       "                        </thead>\r\n",
       "                        <tbody>\r\n",
       "                        \r\n",
       "                            <tr>\r\n",
       "                                <td>$\\left|10\\right\\rangle$</td>\r\n",
       "                                <td>$1.0000 + 0.0000 i$</td>\r\n",
       "                                \r\n",
       "                                <td>\r\n",
       "                                    <progress\r\n",
       "                                        max=\"100\"\r\n",
       "                                        value=\"100\"\r\n",
       "                                        style=\"width: 100%;\"\r\n",
       "                                    > \r\n",
       "                                    <td>\r\n",
       "                                    <p id=\"round-5a575740-3eeb-4afb-a757-a8d44e830efa\"> \r\n",
       "                                    <script>\r\n",
       "                                    var num = 100;\r\n",
       "                                    num = num.toFixed(4);\r\n",
       "                                    var num_string = num + \"%\";\r\n",
       "                                     document.getElementById(\"round-5a575740-3eeb-4afb-a757-a8d44e830efa\").innerHTML = num_string;\r\n",
       "                                    </script> </p>\r\n",
       "                                    </td>\r\n",
       "                                </td>\r\n",
       "                            \r\n",
       "                                \r\n",
       "                                <td style=\"transform: rotate(0deg);\r\n",
       "                   text-align: center;\">\r\n",
       "                                 ↑\r\n",
       "                                </td>\r\n",
       "                            \r\n",
       "                            </tr>\r\n",
       "                        \r\n",
       "                        </tbody>\r\n",
       "                    </table>"
      ],
      "text/plain": [
       "|10⟩\t1 + 0𝑖"
      ]
     },
     "metadata": {},
     "output_type": "display_data"
    },
    {
     "data": {
      "application/json": "10",
      "text/plain": [
       "10"
      ]
     },
     "execution_count": 4,
     "metadata": {},
     "output_type": "execute_result"
    }
   ],
   "source": [
    "%simulate AddCustom num1=4 num2=6"
   ]
  },
  {
   "cell_type": "markdown",
   "metadata": {},
   "source": [
    "### Sample 2: Multiplying "
   ]
  },
  {
   "cell_type": "code",
   "execution_count": 5,
   "metadata": {},
   "outputs": [
    {
     "data": {
      "application/json": "[\"PrepareSuperpositionOfTwoInts\",\"MultiplyInSuperpositionMod\"]",
      "text/html": [
       "<ul><li>PrepareSuperpositionOfTwoInts</li><li>MultiplyInSuperpositionMod</li></ul>"
      ],
      "text/plain": [
       "PrepareSuperpositionOfTwoInts, MultiplyInSuperpositionMod"
      ]
     },
     "execution_count": 5,
     "metadata": {},
     "output_type": "execute_result"
    }
   ],
   "source": [
    "open Microsoft.Quantum.Arrays;\n",
    "\n",
    "// This operation takes a register and a pair of integers\n",
    "// and prepares that register in a superposition of those\n",
    "// integers in a LittleEndian encoding.\n",
    "operation PrepareSuperpositionOfTwoInts(register : LittleEndian, intPair : (Int, Int)) \n",
    ": Unit is Adj + Ctl {\n",
    "    use ctrl = Qubit();\n",
    "    // The hadamard operation puts our control qubit in a superposition,\n",
    "    // so that when we control later operations on it they are also in superposition.\n",
    "    H(ctrl);\n",
    "        \n",
    "    within{\n",
    "        X(ctrl);\n",
    "    } \n",
    "    apply{\n",
    "        // Adding the `Controlled` functor here adds a first argument of \n",
    "        // the control register and then the arguments for the regular operation.\n",
    "        // Here we are taking the first int of the pair and ensuring that the \n",
    "        // register is encoded as LittleEndian.\n",
    "        Controlled ApplyXorInPlace([ctrl], (Fst(intPair), register));\n",
    "    }\n",
    "        \n",
    "    // Now we can do the same thing with the second int in `intPair` and encode\n",
    "    // it in `register` controlled on the `ctl` qubit.\n",
    "    Controlled ApplyXorInPlace([ctrl], (Snd(intPair), register));\n",
    "    // Here we add some unnecessary phase rotation so we can see how\n",
    "    // that propagates through later steps.\n",
    "    (ControlledOnInt(Snd(intPair), Y))(register!, ctrl);  \n",
    "}\n",
    "\n",
    "\n",
    "operation MultiplyInSuperpositionMod( superpositionInt1 : Int,\n",
    "    superpositionInt2 : Int, multiplier : Int, modulus : Int) \n",
    ": Int {\n",
    "    // The first thing here is to figure out how big we need our\n",
    "    // registers to be, and allocate a register of qubits of that size.\n",
    "    // Here since we are doing modular multiplication, the largest possible \n",
    "    // value our register has to hold is the modulus - 1.\n",
    "    use target = Qubit[BitSizeI(modulus)];\n",
    "    // We can use the other operation defined in this cell to prepare\n",
    "    // our target register in a superposition of integers.\n",
    "    PrepareSuperpositionOfTwoInts(LittleEndian(target), (superpositionInt1, superpositionInt2));\n",
    "        \n",
    "    Message(\"Before multiplication:\");\n",
    "    DumpMachine();\n",
    "        \n",
    "    // The Numerics package provides an operation that can take a \n",
    "    // LittleEndian register and multiply the value it represents by a\n",
    "    // multiplier mod the modulus.\n",
    "    MultiplyByModularInteger(multiplier, modulus, LittleEndian(target));\n",
    "        \n",
    "    Message(\"After multiplication:\");\n",
    "    DumpMachine();\n",
    "    return MeasureInteger(LittleEndian(target));\n",
    "}"
   ]
  },
  {
   "cell_type": "markdown",
   "metadata": {},
   "source": [
    "Here we are multiplying 3 by a superposition of 2 and 3 all mod 8."
   ]
  },
  {
   "cell_type": "code",
   "execution_count": 6,
   "metadata": {
    "scrolled": true
   },
   "outputs": [
    {
     "name": "stdout",
     "output_type": "stream",
     "text": [
      "Before multiplication:\r\n"
     ]
    },
    {
     "data": {
      "application/json": "{\"div_id\":\"dump-machine-div-8fcc34c5-45b6-481c-ae68-79304d504dc5\",\"qubit_ids\":[0,1,2,3],\"n_qubits\":4,\"amplitudes\":[{\"Real\":0.0,\"Imaginary\":0.0,\"Magnitude\":0.0,\"Phase\":0.0},{\"Real\":0.0,\"Imaginary\":0.0,\"Magnitude\":0.0,\"Phase\":0.0},{\"Real\":0.7071067811865476,\"Imaginary\":0.0,\"Magnitude\":0.7071067811865476,\"Phase\":0.0},{\"Real\":0.0,\"Imaginary\":-0.7071067811865476,\"Magnitude\":0.7071067811865476,\"Phase\":-1.5707963267948966},{\"Real\":0.0,\"Imaginary\":0.0,\"Magnitude\":0.0,\"Phase\":0.0},{\"Real\":0.0,\"Imaginary\":0.0,\"Magnitude\":0.0,\"Phase\":0.0},{\"Real\":0.0,\"Imaginary\":0.0,\"Magnitude\":0.0,\"Phase\":0.0},{\"Real\":0.0,\"Imaginary\":0.0,\"Magnitude\":0.0,\"Phase\":0.0},{\"Real\":0.0,\"Imaginary\":0.0,\"Magnitude\":0.0,\"Phase\":0.0},{\"Real\":0.0,\"Imaginary\":0.0,\"Magnitude\":0.0,\"Phase\":0.0},{\"Real\":0.0,\"Imaginary\":0.0,\"Magnitude\":0.0,\"Phase\":0.0},{\"Real\":0.0,\"Imaginary\":0.0,\"Magnitude\":0.0,\"Phase\":0.0},{\"Real\":0.0,\"Imaginary\":0.0,\"Magnitude\":0.0,\"Phase\":0.0},{\"Real\":0.0,\"Imaginary\":0.0,\"Magnitude\":0.0,\"Phase\":0.0},{\"Real\":0.0,\"Imaginary\":0.0,\"Magnitude\":0.0,\"Phase\":0.0},{\"Real\":0.0,\"Imaginary\":0.0,\"Magnitude\":0.0,\"Phase\":0.0}]}",
      "text/html": [
       "\r\n",
       "                    <table style=\"table-layout: fixed; width: 100%\">\r\n",
       "                        <thead>\r\n",
       "                            \r\n",
       "                        <tr>\r\n",
       "                            <th>Qubit IDs</th>\r\n",
       "                            <td span=\"3\">0, 1, 2, 3</td>\r\n",
       "                        </tr>\r\n",
       "                    \r\n",
       "                            <tr>\r\n",
       "                                <th style=\"width: 20ch)\">Basis state (little endian)</th>\r\n",
       "                                <th style=\"width: 20ch\">Amplitude</th><th style=\"width: calc(100% - 26ch - 20ch)\">Meas. Pr.</th><th style=\"width: 6ch\">Phase</th>\r\n",
       "                            </tr>\r\n",
       "                        </thead>\r\n",
       "                        <tbody>\r\n",
       "                        \r\n",
       "                            <tr>\r\n",
       "                                <td>$\\left|2\\right\\rangle$</td>\r\n",
       "                                <td>$0.7071 + 0.0000 i$</td>\r\n",
       "                                \r\n",
       "                                <td>\r\n",
       "                                    <progress\r\n",
       "                                        max=\"100\"\r\n",
       "                                        value=\"50.000000000000014\"\r\n",
       "                                        style=\"width: 100%;\"\r\n",
       "                                    > \r\n",
       "                                    <td>\r\n",
       "                                    <p id=\"round-fd75fce0-1d04-44f0-8145-51f5be733e84\"> \r\n",
       "                                    <script>\r\n",
       "                                    var num = 50.000000000000014;\r\n",
       "                                    num = num.toFixed(4);\r\n",
       "                                    var num_string = num + \"%\";\r\n",
       "                                     document.getElementById(\"round-fd75fce0-1d04-44f0-8145-51f5be733e84\").innerHTML = num_string;\r\n",
       "                                    </script> </p>\r\n",
       "                                    </td>\r\n",
       "                                </td>\r\n",
       "                            \r\n",
       "                                \r\n",
       "                                <td style=\"transform: rotate(0deg);\r\n",
       "                   text-align: center;\">\r\n",
       "                                 ↑\r\n",
       "                                </td>\r\n",
       "                            \r\n",
       "                            </tr>\r\n",
       "                        \n",
       "\r\n",
       "                            <tr>\r\n",
       "                                <td>$\\left|3\\right\\rangle$</td>\r\n",
       "                                <td>$0.0000  -0.7071 i$</td>\r\n",
       "                                \r\n",
       "                                <td>\r\n",
       "                                    <progress\r\n",
       "                                        max=\"100\"\r\n",
       "                                        value=\"50.000000000000014\"\r\n",
       "                                        style=\"width: 100%;\"\r\n",
       "                                    > \r\n",
       "                                    <td>\r\n",
       "                                    <p id=\"round-89a8dd2e-8dfc-40e5-b584-47c5fad91109\"> \r\n",
       "                                    <script>\r\n",
       "                                    var num = 50.000000000000014;\r\n",
       "                                    num = num.toFixed(4);\r\n",
       "                                    var num_string = num + \"%\";\r\n",
       "                                     document.getElementById(\"round-89a8dd2e-8dfc-40e5-b584-47c5fad91109\").innerHTML = num_string;\r\n",
       "                                    </script> </p>\r\n",
       "                                    </td>\r\n",
       "                                </td>\r\n",
       "                            \r\n",
       "                                \r\n",
       "                                <td style=\"transform: rotate(-90deg);\r\n",
       "                   text-align: center;\">\r\n",
       "                                 ↑\r\n",
       "                                </td>\r\n",
       "                            \r\n",
       "                            </tr>\r\n",
       "                        \r\n",
       "                        </tbody>\r\n",
       "                    </table>"
      ],
      "text/plain": [
       "|2⟩\t0.7071067811865476 + 0𝑖\n",
       "|3⟩\t0 + -0.7071067811865476𝑖"
      ]
     },
     "metadata": {},
     "output_type": "display_data"
    },
    {
     "name": "stdout",
     "output_type": "stream",
     "text": [
      "After multiplication:\r\n"
     ]
    },
    {
     "data": {
      "application/json": "{\"div_id\":\"dump-machine-div-a66b6eb3-fc58-453c-b3fc-ff5c71e7fb8c\",\"qubit_ids\":[0,1,2,3],\"n_qubits\":4,\"amplitudes\":[{\"Real\":-2.053134880831493E-34,\"Imaginary\":1.2910504968323847E-33,\"Magnitude\":1.3072738862839787E-33,\"Phase\":1.7285039415654526},{\"Real\":4.895614577113624E-17,\"Imaginary\":-0.707106781186565,\"Magnitude\":0.707106781186565,\"Phase\":-1.5707963267948966},{\"Real\":8.737785755760589E-33,\"Imaginary\":-3.600686271093188E-33,\"Magnitude\":9.45060006224005E-33,\"Phase\":-0.3908785089499971},{\"Real\":-6.96587970384825E-33,\"Imaginary\":3.219848606333852E-33,\"Magnitude\":7.674040988696571E-33,\"Phase\":2.708613743994322},{\"Real\":8.260283341481202E-33,\"Imaginary\":5.696720612386342E-33,\"Magnitude\":1.0034186893672016E-32,\"Phase\":0.6037471577023479},{\"Real\":-2.1263373355983523E-33,\"Imaginary\":3.8842879449597495E-33,\"Magnitude\":4.428205427045942E-33,\"Phase\":2.071656658783588},{\"Real\":0.7071067811865637,\"Imaginary\":-5.144551441211654E-16,\"Magnitude\":0.7071067811865637,\"Phase\":-7.275494420487408E-16},{\"Real\":-7.798555202703428E-33,\"Imaginary\":5.921257574207684E-33,\"Magnitude\":9.791769733287471E-33,\"Phase\":2.4921811449131313},{\"Real\":3.760805630465078E-33,\"Imaginary\":-2.7798710862777163E-33,\"Magnitude\":4.676680686818449E-33,\"Phase\":-0.6365331810832874},{\"Real\":1.1496735851466057E-17,\"Imaginary\":1.1563400301803713E-17,\"Magnitude\":1.630604678572152E-17,\"Phase\":0.7882890511261407},{\"Real\":-1.2984998950412664E-32,\"Imaginary\":-2.2622285196330395E-34,\"Magnitude\":1.2986969412490675E-32,\"Phase\":-3.1241725545062455},{\"Real\":-6.747029060000957E-33,\"Imaginary\":-6.676217335949799E-33,\"Magnitude\":9.49180062229154E-33,\"Phase\":-2.361469746646994},{\"Real\":-4.777370743522004E-33,\"Imaginary\":5.975728454355033E-33,\"Magnitude\":7.650660218650962E-33,\"Phase\":2.245209432442664},{\"Real\":-1.9156089874010932E-34,\"Imaginary\":-9.909801346205675E-34,\"Magnitude\":1.0093251236042412E-33,\"Phase\":-1.761745674828624},{\"Real\":-5.7483679257332105E-18,\"Imaginary\":1.149673585146601E-17,\"Magnitude\":1.2853741441618554E-17,\"Phase\":2.034443935795717},{\"Real\":-1.3100164976577904E-32,\"Imaginary\":-1.0992533923188516E-32,\"Magnitude\":1.7101173189755394E-32,\"Phase\":-2.4434524273031974}]}",
      "text/html": [
       "\r\n",
       "                    <table style=\"table-layout: fixed; width: 100%\">\r\n",
       "                        <thead>\r\n",
       "                            \r\n",
       "                        <tr>\r\n",
       "                            <th>Qubit IDs</th>\r\n",
       "                            <td span=\"3\">0, 1, 2, 3</td>\r\n",
       "                        </tr>\r\n",
       "                    \r\n",
       "                            <tr>\r\n",
       "                                <th style=\"width: 20ch)\">Basis state (little endian)</th>\r\n",
       "                                <th style=\"width: 20ch\">Amplitude</th><th style=\"width: calc(100% - 26ch - 20ch)\">Meas. Pr.</th><th style=\"width: 6ch\">Phase</th>\r\n",
       "                            </tr>\r\n",
       "                        </thead>\r\n",
       "                        <tbody>\r\n",
       "                        \r\n",
       "                            <tr>\r\n",
       "                                <td>$\\left|1\\right\\rangle$</td>\r\n",
       "                                <td>$0.0000  -0.7071 i$</td>\r\n",
       "                                \r\n",
       "                                <td>\r\n",
       "                                    <progress\r\n",
       "                                        max=\"100\"\r\n",
       "                                        value=\"50.00000000000247\"\r\n",
       "                                        style=\"width: 100%;\"\r\n",
       "                                    > \r\n",
       "                                    <td>\r\n",
       "                                    <p id=\"round-846186a4-4f28-4f69-8a2a-9ef61dba26ec\"> \r\n",
       "                                    <script>\r\n",
       "                                    var num = 50.00000000000247;\r\n",
       "                                    num = num.toFixed(4);\r\n",
       "                                    var num_string = num + \"%\";\r\n",
       "                                     document.getElementById(\"round-846186a4-4f28-4f69-8a2a-9ef61dba26ec\").innerHTML = num_string;\r\n",
       "                                    </script> </p>\r\n",
       "                                    </td>\r\n",
       "                                </td>\r\n",
       "                            \r\n",
       "                                \r\n",
       "                                <td style=\"transform: rotate(-90deg);\r\n",
       "                   text-align: center;\">\r\n",
       "                                 ↑\r\n",
       "                                </td>\r\n",
       "                            \r\n",
       "                            </tr>\r\n",
       "                        \n",
       "\r\n",
       "                            <tr>\r\n",
       "                                <td>$\\left|6\\right\\rangle$</td>\r\n",
       "                                <td>$0.7071  -0.0000 i$</td>\r\n",
       "                                \r\n",
       "                                <td>\r\n",
       "                                    <progress\r\n",
       "                                        max=\"100\"\r\n",
       "                                        value=\"50.00000000000229\"\r\n",
       "                                        style=\"width: 100%;\"\r\n",
       "                                    > \r\n",
       "                                    <td>\r\n",
       "                                    <p id=\"round-d5f12cd6-28b4-497e-aeb9-eafa878ebbeb\"> \r\n",
       "                                    <script>\r\n",
       "                                    var num = 50.00000000000229;\r\n",
       "                                    num = num.toFixed(4);\r\n",
       "                                    var num_string = num + \"%\";\r\n",
       "                                     document.getElementById(\"round-d5f12cd6-28b4-497e-aeb9-eafa878ebbeb\").innerHTML = num_string;\r\n",
       "                                    </script> </p>\r\n",
       "                                    </td>\r\n",
       "                                </td>\r\n",
       "                            \r\n",
       "                                \r\n",
       "                                <td style=\"transform: rotate(-4.168551241649072E-14deg);\r\n",
       "                   text-align: center;\">\r\n",
       "                                 ↑\r\n",
       "                                </td>\r\n",
       "                            \r\n",
       "                            </tr>\r\n",
       "                        \r\n",
       "                        </tbody>\r\n",
       "                    </table>"
      ],
      "text/plain": [
       "|1⟩\t4.895614577113624E-17 + -0.707106781186565𝑖\n",
       "|6⟩\t0.7071067811865637 + -5.144551441211654E-16𝑖"
      ]
     },
     "metadata": {},
     "output_type": "display_data"
    },
    {
     "data": {
      "application/json": "1",
      "text/plain": [
       "1"
      ]
     },
     "execution_count": 6,
     "metadata": {},
     "output_type": "execute_result"
    }
   ],
   "source": [
    "%simulate MultiplyInSuperpositionMod superpositionInt1=2 superpositionInt2=3 multiplier=3 modulus=8"
   ]
  },
  {
   "cell_type": "markdown",
   "metadata": {},
   "source": [
    "----\n",
    "\n",
    "# Factoring samples"
   ]
  },
  {
   "cell_type": "code",
   "execution_count": 7,
   "metadata": {},
   "outputs": [
    {
     "name": "stdout",
     "output_type": "stream",
     "text": [
      "We have guessed a divisor of 21 to be 3 by accident. Nothing left to do.\r\n"
     ]
    },
    {
     "data": {
      "application/json": "{\"@type\":\"@tuple\",\"Item1\":3,\"Item2\":7}",
      "text/plain": [
       "(3, 7)"
      ]
     },
     "execution_count": 7,
     "metadata": {},
     "output_type": "execute_result"
    }
   ],
   "source": [
    "%simulate FactorSemiprimeInteger number=21"
   ]
  },
  {
   "cell_type": "code",
   "execution_count": 8,
   "metadata": {},
   "outputs": [
    {
     "name": "stdout",
     "output_type": "stream",
     "text": [
      "Estimating period of 5...\n",
      "The estimated period did not yield a valid factor, trying again.\n",
      "We have guessed a divisor of 21 to be 3 by accident. Nothing left to do.\n"
     ]
    },
    {
     "data": {
      "application/json": "{\"@type\":\"@tuple\",\"Item1\":3,\"Item2\":7}",
      "text/plain": [
       "(3, 7)"
      ]
     },
     "execution_count": 8,
     "metadata": {},
     "output_type": "execute_result"
    }
   ],
   "source": [
    "%simulate FactorSemiprimeInteger number=21"
   ]
  },
  {
   "cell_type": "markdown",
   "metadata": {},
   "source": [
    "----\n",
    "### Epilogue\n",
    "\n",
    "_The following cell logs what version of the components this was last tested with._"
   ]
  },
  {
   "cell_type": "code",
   "execution_count": 9,
   "metadata": {},
   "outputs": [
    {
     "data": {
      "application/json": "{\"rows\":[{\"@type\":\"@tuple\",\"Item1\":\"iqsharp\",\"Item2\":\"0.17.2105143879\"},{\"@type\":\"@tuple\",\"Item1\":\"Jupyter Core\",\"Item2\":\"1.5.0.0\"},{\"@type\":\"@tuple\",\"Item1\":\".NET Runtime\",\"Item2\":\".NETCoreApp,Version=v3.1\"}]}",
      "text/html": [
       "<table><thead><tr><th style=\"text-align: start;\">Component</th><th style=\"text-align: start;\">Version</th></tr></thead><tbody><tr><td style=\"text-align: start;\">iqsharp</td><td style=\"text-align: start;\">0.17.2105143879</td></tr><tr><td style=\"text-align: start;\">Jupyter Core</td><td style=\"text-align: start;\">1.5.0.0</td></tr><tr><td style=\"text-align: start;\">.NET Runtime</td><td style=\"text-align: start;\">.NETCoreApp,Version=v3.1</td></tr></tbody></table>"
      ],
      "text/plain": [
       "Component    Version\r\n",
       "------------ ------------------------\r\n",
       "iqsharp      0.17.2105143879\r\n",
       "Jupyter Core 1.5.0.0\r\n",
       ".NET Runtime .NETCoreApp,Version=v3.1\r\n"
      ]
     },
     "metadata": {},
     "output_type": "display_data"
    }
   ],
   "source": [
    "%version"
   ]
  }
 ],
 "metadata": {
  "kernelspec": {
   "display_name": "Q#",
   "language": "qsharp",
   "name": "iqsharp"
  },
  "language_info": {
   "file_extension": ".qs",
   "mimetype": "text/x-qsharp",
   "name": "qsharp",
   "version": "0.14"
  }
 },
 "nbformat": 4,
 "nbformat_minor": 4
}

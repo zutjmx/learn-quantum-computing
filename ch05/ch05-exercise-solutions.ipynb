{
 "cells": [
  {
   "cell_type": "markdown",
   "metadata": {},
   "source": [
    "# [Learn Quantum Computing with Python and Q#](https://www.manning.com/books/learn-quantum-computing-with-python-and-q-sharp?a_aid=learn-qc-granade&a_bid=ee23f338)<br>Chapter 5 Exercise Solutions\n",
    "----\n",
    "> Copyright (c) Sarah Kaiser and Chris Granade.\n",
    "> Code sample from the book \"Learn Quantum Computing with Python and Q#\" by\n",
    "> Sarah Kaiser and Chris Granade, published by Manning Publications Co.\n",
    "> Book ISBN 9781617296130.\n",
    "> Code licensed under the MIT License."
   ]
  },
  {
   "cell_type": "markdown",
   "metadata": {},
   "source": [
    "### Preamble"
   ]
  },
  {
   "cell_type": "code",
   "execution_count": null,
   "metadata": {},
   "outputs": [],
   "source": [
    "import numpy as np\n",
    "import qutip as qt"
   ]
  },
  {
   "cell_type": "markdown",
   "metadata": {},
   "source": [
    "----\n",
    "### Exercise 5.1"
   ]
  },
  {
   "cell_type": "markdown",
   "metadata": {},
   "source": [
    "**How would you create a `Qobj` to represent the |1⟩ state? How about the |+⟩ or $\\left|-\\right\\rangle$ state? If you need to check back to _Simulating qubits in code_ section of Chapter 2 for what vectors represent those states.**"
   ]
  },
  {
   "cell_type": "code",
   "execution_count": null,
   "metadata": {},
   "outputs": [],
   "source": [
    "ket1 = qt.Qobj([\n",
    "    [0],\n",
    "    [1]\n",
    "])\n",
    "ket1"
   ]
  },
  {
   "cell_type": "code",
   "execution_count": null,
   "metadata": {},
   "outputs": [],
   "source": [
    "ket_plus = qt.Qobj([\n",
    "    [1],\n",
    "    [1]\n",
    "]) / np.sqrt(2)\n",
    "ket_plus"
   ]
  },
  {
   "cell_type": "code",
   "execution_count": null,
   "metadata": {},
   "outputs": [],
   "source": [
    "ket_minus = qt.Qobj([\n",
    "    [1],\n",
    "    [-1]\n",
    "]) / np.sqrt(2)\n",
    "ket_minus"
   ]
  },
  {
   "cell_type": "markdown",
   "metadata": {},
   "source": [
    "----\n",
    "### Exercise 5.2"
   ]
  },
  {
   "cell_type": "markdown",
   "metadata": {},
   "source": [
    "**How could you use the `qt.basis` function to create a two qubit register in the |10⟩ state?\n",
    "How could you create the $\\left|001\\right\\rangle$ state? \n",
    "Remember that the second argument to `qt.basis` is an index to the computational basis states we saw earlier.**"
   ]
  },
  {
   "cell_type": "code",
   "execution_count": null,
   "metadata": {},
   "outputs": [],
   "source": [
    "ket001 = qt.tensor([qt.basis(2, label) for label in (0, 0, 1)])\n",
    "ket001"
   ]
  },
  {
   "cell_type": "markdown",
   "metadata": {},
   "source": [
    "----\n",
    "### Exercise 5.3"
   ]
  },
  {
   "cell_type": "markdown",
   "metadata": {},
   "source": [
    "**In the example where our two qubits start off in the $\\left|++\\right\\rangle$ state, suppose we measured the second qubit instead.\n",
    "Check that no matter what result we get, nothing happens to the state of the first qubit.**"
   ]
  },
  {
   "cell_type": "markdown",
   "metadata": {},
   "source": [
    "It's easiest to consider this in two cases, but first let's start by writing out $|++\\rangle$ as a vector."
   ]
  },
  {
   "cell_type": "code",
   "execution_count": null,
   "metadata": {},
   "outputs": [],
   "source": [
    "qt.tensor(ket_plus, ket_plus)"
   ]
  },
  {
   "cell_type": "markdown",
   "metadata": {},
   "source": [
    "This vector has a non-zero amplitude on all four computational basis states $|00\\rangle$, $|01\\rangle$, $|10\\rangle$, and $|11\\rangle$.\n",
    "In the case that measuring the second qubit gives us a \"0\" result, we need to filter out the amplitudes that are inconsistent with that result (in particular, the amplitudes of $|01\\rangle$ and $|11\\rangle$, represented by the second and fourth rows, respectively)."
   ]
  },
  {
   "cell_type": "code",
   "execution_count": null,
   "metadata": {},
   "outputs": [],
   "source": [
    "zero_case = qt.Qobj([\n",
    "    [0.5],\n",
    "    [0.0],\n",
    "    [0.5],\n",
    "    [0.0]\n",
    "]).unit()"
   ]
  },
  {
   "cell_type": "markdown",
   "metadata": {},
   "source": [
    "Above, we used the `unit` method to renormalize (that is, to make the length of the state vector equal to 1) so that the measurement probabilities still sum to one."
   ]
  },
  {
   "cell_type": "code",
   "execution_count": null,
   "metadata": {},
   "outputs": [],
   "source": [
    "zero_case"
   ]
  },
  {
   "cell_type": "markdown",
   "metadata": {},
   "source": [
    "We note that this is equivalent to $|+0\\rangle$:"
   ]
  },
  {
   "cell_type": "code",
   "execution_count": null,
   "metadata": {},
   "outputs": [],
   "source": [
    "ket0 = qt.Qobj([\n",
    "    [1],\n",
    "    [0]\n",
    "])\n",
    "\n",
    "qt.tensor(ket_plus, ket0)"
   ]
  },
  {
   "cell_type": "markdown",
   "metadata": {},
   "source": [
    "Similarly, in the \"1\" case, we need to filter out the first and third rows:"
   ]
  },
  {
   "cell_type": "code",
   "execution_count": null,
   "metadata": {},
   "outputs": [],
   "source": [
    "one_case = qt.Qobj([\n",
    "    [0.0],\n",
    "    [0.5],\n",
    "    [0.0],\n",
    "    [0.5]\n",
    "]).unit()\n",
    "one_case"
   ]
  },
  {
   "cell_type": "code",
   "execution_count": null,
   "metadata": {},
   "outputs": [],
   "source": [
    "qt.tensor(ket_plus, ket1)"
   ]
  },
  {
   "cell_type": "markdown",
   "metadata": {},
   "source": [
    "In both cases, the state of the first qubit after measuring was still $|+\\rangle$, confirming that measuring the second qubit had no effect on the state of the first qubit in this case.\n",
    "Note that this may not have been the case if the two qubits started off in an *entangled state*."
   ]
  }
 ],
 "metadata": {
  "kernelspec": {
   "display_name": "Python 3",
   "language": "python",
   "name": "python3"
  },
  "language_info": {
   "codemirror_mode": {
    "name": "ipython",
    "version": 3
   },
   "file_extension": ".py",
   "mimetype": "text/x-python",
   "name": "python",
   "nbconvert_exporter": "python",
   "pygments_lexer": "ipython3",
   "version": "3.7.8"
  }
 },
 "nbformat": 4,
 "nbformat_minor": 4
}
